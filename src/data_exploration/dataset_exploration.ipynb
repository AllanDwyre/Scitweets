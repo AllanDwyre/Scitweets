{
 "cells": [
  {
   "cell_type": "code",
   "execution_count": null,
   "id": "28493bfc",
   "metadata": {},
   "outputs": [],
   "source": [
    "import warnings\n",
    "warnings.simplefilter(action='ignore', category=FutureWarning)\n",
    "\n",
    "import numpy as np\n",
    "import pandas as pd\n",
    "\n",
    "import matplotlib.pyplot as plt\n",
    "import seaborn as sns\n",
    "\n",
    "import re"
   ]
  },
  {
   "cell_type": "code",
   "execution_count": null,
   "id": "a8307939",
   "metadata": {},
   "outputs": [],
   "source": [
    "df_url = tweets_kaggle_path + \"/scitweets_export.tsv\"\n",
    "df = pd.read_csv(df_url, sep='\\t', header=0)\n",
    "df = df.drop(columns=[col for col in df.columns if \"Unnamed\" in col] + [\"tweet_id\"])\n",
    "df[\"text\"] = df[\"text\"].astype(str)"
   ]
  },
  {
   "cell_type": "code",
   "execution_count": null,
   "id": "5f0de864",
   "metadata": {},
   "outputs": [],
   "source": [
    "plt.figure(figsize=(6, 4))\n",
    "sns.countplot(x=\"science_related\", data=df, palette=\"coolwarm\")\n",
    "plt.title(\"Distribution of Science-Related Tweets\")\n",
    "plt.xlabel(\"Science Related (0 = No, 1 = Yes)\")\n",
    "plt.ylabel(\"Count\")\n",
    "plt.show()"
   ]
  },
  {
   "cell_type": "code",
   "execution_count": null,
   "id": "36dbcc7d",
   "metadata": {},
   "outputs": [],
   "source": [
    "df[\"tweet_length\"] = df[\"text\"].apply(lambda x : len(x))\n",
    "\n",
    "yes_tweets = df[df[\"science_related\"] == 1][\"tweet_length\"]\n",
    "no_tweets = df[df[\"science_related\"] == 0][\"tweet_length\"]\n",
    "\n",
    "plt.figure(figsize=(8, 5))\n",
    "sns.boxplot(x=\"science_related\", y=\"tweet_length\", data=df, palette=\"coolwarm\")\n",
    "plt.title(\"Tweet Length by Scientific Related Category\")\n",
    "plt.show()"
   ]
  },
  {
   "cell_type": "code",
   "execution_count": null,
   "id": "251fd67d",
   "metadata": {},
   "outputs": [],
   "source": [
    "def count_links(text):\n",
    "    \"\"\"Counts the number of URLs in a text.\"\"\"\n",
    "    url_pattern = r'https?://\\S+|www\\.\\S+'\n",
    "    return len(re.findall(url_pattern, str(text)))\n",
    "\n",
    "df[\"num_links\"] = df[\"text\"].apply(count_links)\n",
    "df[\"num_links\"].describe()"
   ]
  },
  {
   "cell_type": "code",
   "execution_count": null,
   "id": "be40adf4",
   "metadata": {},
   "outputs": [],
   "source": [
    "fig, axes = plt.subplots(1, 2, figsize=(12, 5))\n",
    "\n",
    "#sns.histplot(data=df, x=\"num_links\", bins=10, hue=\"science_related\", multiple=\"stack\", ax=axes[0])\n",
    "sns.kdeplot(df[df[\"science_related\"] == 0][\"num_links\"], label=\"Class 0\", shade=True, ax=axes[0])\n",
    "sns.kdeplot(df[df[\"science_related\"] == 1][\"num_links\"], label=\"Class 1\", shade=True, ax=axes[0])\n",
    "axes[0].set_xlabel(\"Number of Links per Text\")\n",
    "axes[0].set_ylabel(\"Frequency\")\n",
    "axes[0].set_title(\"Distribution of Number of Links per Tweet\")\n",
    "\n",
    "\n",
    "sns.barplot(x=\"science_related\", y=\"num_links\", data=df, palette=\"coolwarm\", ax=axes[1])\n",
    "axes[1].set_title(\"Average Number of Links by Scientific Related Category\")\n",
    "axes[1].set_ylabel(\"Average Number of Links\")\n",
    "\n",
    "plt.tight_layout()\n",
    "plt.show()\n"
   ]
  },
  {
   "cell_type": "code",
   "execution_count": null,
   "id": "98dbad81",
   "metadata": {},
   "outputs": [],
   "source": [
    "def has_emoji(text):\n",
    "    \"\"\"Detects if a text contains at least one emoji.\"\"\"\n",
    "    emoji_pattern = re.compile(\n",
    "        \"[\\U0001F600-\\U0001F64F\"  # Emoticons\n",
    "        \"\\U0001F300-\\U0001F5FF\"  # Symbols & Pictographs\n",
    "        \"\\U0001F680-\\U0001F6FF\"  # Transport & Map Symbols\n",
    "        \"\\U0001F700-\\U0001F77F\"  # Alchemical Symbols\n",
    "        \"\\U0001F780-\\U0001F7FF\"  # Geometric Shapes\n",
    "        \"\\U0001F800-\\U0001F8FF\"  # Supplemental Arrows\n",
    "        \"\\U0001F900-\\U0001F9FF\"  # Supplemental Symbols and Pictographs\n",
    "        \"\\U0001FA00-\\U0001FA6F\"  # Chess Symbols, Symbols for legacy computing, etc.\n",
    "        \"\\U0001FA70-\\U0001FAFF\"  # Symbols for legacy computing, other symbols\n",
    "        \"\\U00002702-\\U000027B0\"  # Dingbats\n",
    "        \"\\U000024C2-\\U0001F251\"  # Enclosed Characters\n",
    "        \"]+\", flags=re.UNICODE)\n",
    "\n",
    "    return bool(re.search(emoji_pattern, str(text)))\n",
    "\n",
    "df[\"has_emoji\"] = df[\"text\"].apply(has_emoji)\n",
    "\n",
    "plt.figure(figsize=(8, 5))\n",
    "sns.barplot(x=\"science_related\", y=\"has_emoji\", data=df, palette=\"coolwarm\")\n",
    "plt.title(\"Tweet emoji presence by Scientific Related Category\")\n",
    "plt.show()"
   ]
  },
  {
   "cell_type": "code",
   "execution_count": null,
   "id": "98c23682",
   "metadata": {},
   "outputs": [],
   "source": [
    "def tags_number(text):\n",
    "    \"\"\"Compute the number of tags by text .\"\"\"\n",
    "    return len(re.findall(r'@[A-Za-z0-9_]+', text))\n",
    "def hashtags_number(text):\n",
    "    \"\"\"Compute the number of hashtags in the text.\"\"\"\n",
    "    return len(re.findall(r'#[A-Za-z0-9_]+', text))\n",
    "\n",
    "df[\"tags_number\"] = df[\"text\"].apply(tags_number)\n",
    "df[\"hashtags_number\"] = df[\"text\"].apply(hashtags_number)\n",
    "\n",
    "plt.figure(figsize=(8, 5))\n",
    "sns.barplot(x=\"science_related\", y=\"tags_number\", data=df, palette=\"coolwarm\")\n",
    "plt.title(\"Tweet mention presence by Scientific Related Category\")\n",
    "plt.show()\n",
    "plt.figure(figsize=(8, 5))\n",
    "sns.barplot(x=\"science_related\", y=\"hashtags_number\", data=df, palette=\"coolwarm\")\n",
    "plt.title(\"Tweet hastag presence by Scientific Related Category\")\n",
    "plt.show()"
   ]
  },
  {
   "cell_type": "code",
   "execution_count": null,
   "id": "23f3e9b7",
   "metadata": {},
   "outputs": [],
   "source": []
  }
 ],
 "metadata": {
  "kernelspec": {
   "display_name": "Python 3",
   "language": "python",
   "name": "python3"
  },
  "language_info": {
   "name": "python",
   "version": "3.10.12"
  }
 },
 "nbformat": 4,
 "nbformat_minor": 5
}
