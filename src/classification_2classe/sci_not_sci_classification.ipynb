{
 "cells": [
  {
   "cell_type": "code",
   "execution_count": null,
   "id": "97e4d7fe",
   "metadata": {},
   "outputs": [
    {
     "name": "stdout",
     "output_type": "stream",
     "text": [
      "Collecting en-core-web-sm==3.8.0\n",
      "  Using cached https://github.com/explosion/spacy-models/releases/download/en_core_web_sm-3.8.0/en_core_web_sm-3.8.0-py3-none-any.whl (12.8 MB)\n",
      "\u001b[38;5;2m✔ Download and installation successful\u001b[0m\n",
      "You can now load the package via spacy.load('en_core_web_sm')\n",
      "\u001b[38;5;3m⚠ Restart to reload dependencies\u001b[0m\n",
      "If you are in a Jupyter or Colab notebook, you may need to restart Python in\n",
      "order to load all the package's dependencies. You can do this by selecting the\n",
      "'Restart kernel' or 'Restart runtime' option.\n"
     ]
    }
   ],
   "source": [
    "# NLP\n",
    "import spacy\n",
    "spacy.cli.download(\"en_core_web_sm\")\n",
    "\n",
    "# Data manipulation\n",
    "import numpy as np\n",
    "import pandas as pd\n",
    "from pandas import DataFrame\n",
    "\n",
    "# Visualization\n",
    "import matplotlib.pyplot as plt\n",
    "import seaborn as sns\n",
    "# Reducer\n",
    "from sklearn.decomposition import PCA\n",
    "\n",
    "# Preprocessing\n",
    "from sklearn.model_selection import train_test_split\n",
    "import string\n",
    "import re\n",
    "import emoji\n",
    "\n",
    "# Vectorizer\n",
    "from sklearn.feature_extraction.text import TfidfVectorizer\n",
    "\n",
    "# Models I will try\n",
    "from sklearn.ensemble import RandomForestClassifier\n",
    "from sklearn import svm\n",
    "\n",
    "# Models evalutations\n",
    "import optuna\n",
    "from sklearn.model_selection import cross_val_score\n",
    "from sklearn.model_selection import KFold\n",
    "from sklearn.metrics import accuracy_score, classification_report, confusion_matrix\n"
   ]
  },
  {
   "cell_type": "markdown",
   "id": "d6eb1669",
   "metadata": {},
   "source": [
    "## Importation of the dataset"
   ]
  },
  {
   "cell_type": "code",
   "execution_count": 20,
   "id": "79231929",
   "metadata": {},
   "outputs": [],
   "source": [
    "nlp = spacy.load(\"en_core_web_sm\")\n",
    "\n",
    "df_path= \"../../scitweets.tsv\"\n",
    "df_base = pd.read_csv(df_path, sep='\\t', header=0)\n",
    "\n",
    "df_base = df_base.drop(columns=[col for col in df_base.columns if \"Unnamed\" in col] + [\"tweet_id\"])\n",
    "df_base[\"text\"] = df_base[\"text\"].astype(str)"
   ]
  },
  {
   "cell_type": "markdown",
   "id": "fe743315",
   "metadata": {},
   "source": [
    "## Preprocessing définitions"
   ]
  },
  {
   "cell_type": "code",
   "execution_count": 19,
   "id": "49272cf1",
   "metadata": {},
   "outputs": [],
   "source": [
    "def emoji_processing(X: DataFrame) -> DataFrame:\n",
    "\tdef count_emojis(text: str) -> int:\n",
    "\t\treturn sum(1 for char in text if char in emoji.EMOJI_DATA)\n",
    "\n",
    "\tdef replace_emojis(text: str) -> str:\n",
    "\t\treturn emoji.demojize(text, delimiters=(\" \", \" \"))\n",
    "\t\n",
    "\tX = X.copy()\n",
    "\tX[\"emoji_count\"] = X[\"text\"].apply(count_emojis)\n",
    "\tX[\"text\"] = X[\"text\"].apply(replace_emojis)\n",
    "\treturn X\n",
    "\t\n",
    "def link_processing(X: DataFrame) -> DataFrame:\n",
    "\tdef count_links(text: str) -> int:\n",
    "\t\treturn len(re.findall(r'https?:\\/\\/.*[\\r\\n]*', text))\n",
    "\n",
    "\tdef replace_link(text: str) -> str:\n",
    "\t\treturn re.sub(r'https?:\\/\\/\\S+', '[url]', text)\n",
    "\t\n",
    "\tX = X.copy()\n",
    "\tX[\"link_count\"] = X[\"text\"].apply(count_links)\n",
    "\tX[\"text\"] = X[\"text\"].apply(replace_link)\n",
    "\treturn X\n",
    "\n",
    "def pre_processing(X: DataFrame) -> DataFrame:\n",
    "\tdef preprocess(text):\n",
    "\t\tdoc = nlp(text.lower())\n",
    "\t\treturn \" \".join(token.lemma_ for token in doc if not token.is_stop and not token.is_punct)\n",
    "\n",
    "\tX = X.copy()\n",
    "\tX[\"text\"] = X[\"text\"].apply(preprocess)\n",
    "\treturn X"
   ]
  },
  {
   "cell_type": "code",
   "execution_count": 14,
   "id": "96811519",
   "metadata": {},
   "outputs": [],
   "source": [
    "def display_result(predicted_y, true_y ):\n",
    "    fig, axes = plt.subplots(1, 2, figsize=(12, 6))\n",
    "    cm = confusion_matrix(true_y, predicted_y)\n",
    "    sns.heatmap(cm, annot=True, fmt=\"d\", cmap=\"Blues\", xticklabels=[\"Non science related\", \"Science related\"],\n",
    "            yticklabels=[\"Non science related\", \"Science related\"], ax=axes[0])\n",
    "\n",
    "    axes[0].set_xlabel(\"Predicted Label\")\n",
    "    axes[0].set_ylabel(\"True Label\")\n",
    "    axes[0].set_title(\"Confusion Matrix\")\n",
    "\n",
    "    target_names = ['Non science related', 'Science related']\n",
    "    class_report = classification_report(true_y, predicted_y, labels=[0, 1], target_names=target_names)\n",
    "\n",
    "    axes[1].text(0, 0.5, class_report, fontsize=12, family='monospace')\n",
    "    axes[1].axis(\"off\")\n",
    "    axes[1].set_title(\"Classification Report\")\n",
    "\n",
    "    plt.tight_layout()\n",
    "    plt.show()"
   ]
  },
  {
   "cell_type": "markdown",
   "id": "c581dba6",
   "metadata": {},
   "source": [
    "## Preprocess the data"
   ]
  },
  {
   "cell_type": "code",
   "execution_count": 21,
   "id": "1366f594",
   "metadata": {},
   "outputs": [],
   "source": [
    "df = df_base.copy()\n",
    "df = emoji_processing(df)\n",
    "df = link_processing(df)\n",
    "df = pre_processing(df)"
   ]
  },
  {
   "cell_type": "code",
   "execution_count": 22,
   "id": "01f099e0",
   "metadata": {},
   "outputs": [
    {
     "data": {
      "text/html": [
       "<div>\n",
       "<style scoped>\n",
       "    .dataframe tbody tr th:only-of-type {\n",
       "        vertical-align: middle;\n",
       "    }\n",
       "\n",
       "    .dataframe tbody tr th {\n",
       "        vertical-align: top;\n",
       "    }\n",
       "\n",
       "    .dataframe thead th {\n",
       "        text-align: right;\n",
       "    }\n",
       "</style>\n",
       "<table border=\"1\" class=\"dataframe\">\n",
       "  <thead>\n",
       "    <tr style=\"text-align: right;\">\n",
       "      <th></th>\n",
       "      <th>text</th>\n",
       "      <th>emoji_count</th>\n",
       "      <th>link_count</th>\n",
       "    </tr>\n",
       "  </thead>\n",
       "  <tbody>\n",
       "    <tr>\n",
       "      <th>938</th>\n",
       "      <td>.@frontier_usyd host frontotemporal dementia f...</td>\n",
       "      <td>0</td>\n",
       "      <td>1</td>\n",
       "    </tr>\n",
       "    <tr>\n",
       "      <th>470</th>\n",
       "      <td>people stop interfere people business   winkin...</td>\n",
       "      <td>8</td>\n",
       "      <td>0</td>\n",
       "    </tr>\n",
       "    <tr>\n",
       "      <th>326</th>\n",
       "      <td>underwear stop fly</td>\n",
       "      <td>0</td>\n",
       "      <td>0</td>\n",
       "    </tr>\n",
       "    <tr>\n",
       "      <th>406</th>\n",
       "      <td>@martinhanratty @atyhans @thenotimer listen go...</td>\n",
       "      <td>0</td>\n",
       "      <td>0</td>\n",
       "    </tr>\n",
       "    <tr>\n",
       "      <th>953</th>\n",
       "      <td>truth untold stop play light turn green url</td>\n",
       "      <td>0</td>\n",
       "      <td>1</td>\n",
       "    </tr>\n",
       "  </tbody>\n",
       "</table>\n",
       "</div>"
      ],
      "text/plain": [
       "                                                  text  emoji_count  link_count\n",
       "938  .@frontier_usyd host frontotemporal dementia f...            0           1\n",
       "470  people stop interfere people business   winkin...            8           0\n",
       "326                                 underwear stop fly            0           0\n",
       "406  @martinhanratty @atyhans @thenotimer listen go...            0           0\n",
       "953        truth untold stop play light turn green url            0           1"
      ]
     },
     "execution_count": 22,
     "metadata": {},
     "output_type": "execute_result"
    }
   ],
   "source": [
    "X = df.copy().drop(columns=[\"scientific_claim\", \"scientific_reference\", \"scientific_context\"])\n",
    "y = X.pop(\"science_related\")\n",
    "\n",
    "X_train, X_test, y_train, y_test = train_test_split(X, y, random_state=5, test_size=0.2)\n",
    "\n",
    "X_train.head()"
   ]
  },
  {
   "cell_type": "code",
   "execution_count": 27,
   "id": "67af0866",
   "metadata": {},
   "outputs": [],
   "source": [
    "def vectorize_text(X):\n",
    "\tvectorizer = TfidfVectorizer(stop_words='english', ngram_range=(1,4))\n",
    "\treturn vectorizer.fit_transform(X)\n",
    "\n",
    "X_tfidf = vectorize_text(X_train['text'])"
   ]
  },
  {
   "cell_type": "code",
   "execution_count": null,
   "id": "128110ba",
   "metadata": {},
   "outputs": [
    {
     "name": "stdout",
     "output_type": "stream",
     "text": [
      "X_pca shape: (912, 2)\n",
      "y_train length: 912\n",
      "y_test length: 228\n"
     ]
    },
    {
     "data": {
      "image/png": "[encoded data removed]",
      "text/plain": [
       "<Figure size 640x480 with 1 Axes>"
      ]
     },
     "metadata": {},
     "output_type": "display_data"
    }
   ],
   "source": [
    "pca = PCA(n_components=2)\n",
    "X_pca = pca.fit_transform(X_tfidf.toarray())\n",
    "\n",
    "df = pd.DataFrame({\n",
    "    'PC1': X_pca[:, 0],\n",
    "    'PC2': X_pca[:, 1],\n",
    "    'label': y_train.values\n",
    "})\n",
    "\n",
    "sns.scatterplot(data=df, x='PC1', y='PC2', hue='label')\n",
    "plt.title(\"PCA of TF-IDF Text Features\")\n",
    "plt.grid(True)\n",
    "plt.show()"
   ]
  }
 ],
 "metadata": {
  "kernelspec": {
   "display_name": "venv",
   "language": "python",
   "name": "python3"
  },
  "language_info": {
   "codemirror_mode": {
    "name": "ipython",
    "version": 3
   },
   "file_extension": ".py",
   "mimetype": "text/x-python",
   "name": "python",
   "nbconvert_exporter": "python",
   "pygments_lexer": "ipython3",
   "version": "3.10.12"
  }
 },
 "nbformat": 4,
 "nbformat_minor": 5
}
